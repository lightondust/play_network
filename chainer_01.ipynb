{
 "cells": [
  {
   "cell_type": "code",
   "execution_count": 1,
   "metadata": {
    "scrolled": true
   },
   "outputs": [
    {
     "name": "stderr",
     "output_type": "stream",
     "text": [
      "/Users/choumori/project/chainer/lib/python3.6/site-packages/h5py/__init__.py:36: FutureWarning: Conversion of the second argument of issubdtype from `float` to `np.floating` is deprecated. In future, it will be treated as `np.float64 == np.dtype(float).type`.\n",
      "  from ._conv import register_converters as _register_converters\n",
      "/Users/choumori/project/chainer/lib/python3.6/site-packages/chainer/_environment_check.py:38: UserWarning: Accelerate has been detected as a NumPy backend library.\n",
      "vecLib, which is a part of Accelerate, is known not to work correctly with Chainer.\n",
      "We recommend using other BLAS libraries such as OpenBLAS.\n",
      "For details of the issue, please see\n",
      "https://docs.chainer.org/en/stable/tips.html#mnist-example-does-not-converge-in-cpu-mode-on-mac-os-x.\n",
      "\n",
      "Also note that Chainer does not officially support Mac OS X.\n",
      "Please use it at your own risk.\n",
      "\n",
      "  ''')  # NOQA\n"
     ]
    }
   ],
   "source": [
    "import chainer"
   ]
  },
  {
   "cell_type": "code",
   "execution_count": 2,
   "metadata": {},
   "outputs": [],
   "source": [
    "import chainer.functions as F"
   ]
  },
  {
   "cell_type": "code",
   "execution_count": 3,
   "metadata": {},
   "outputs": [],
   "source": [
    "import chainer.links as L"
   ]
  },
  {
   "cell_type": "code",
   "execution_count": 4,
   "metadata": {},
   "outputs": [],
   "source": [
    "from chainer import training, datasets, iterators, optimizers"
   ]
  },
  {
   "cell_type": "code",
   "execution_count": 5,
   "metadata": {},
   "outputs": [],
   "source": [
    "from chainer.training import extensions"
   ]
  },
  {
   "cell_type": "code",
   "execution_count": 6,
   "metadata": {},
   "outputs": [],
   "source": [
    "import numpy as np"
   ]
  },
  {
   "cell_type": "code",
   "execution_count": 18,
   "metadata": {},
   "outputs": [],
   "source": [
    "batch_size =200"
   ]
  },
  {
   "cell_type": "code",
   "execution_count": 19,
   "metadata": {},
   "outputs": [],
   "source": [
    "uses_device =-1 "
   ]
  },
  {
   "cell_type": "code",
   "execution_count": 20,
   "metadata": {},
   "outputs": [],
   "source": [
    "class NMIST_Conv_NN(chainer.Chain):\n",
    "\n",
    "        def __init__(self):\n",
    "                super(NMIST_Conv_NN, self).__init__()\n",
    "                with self.init_scope():\n",
    "                        self.conv1 = L.Convolution2D(1, 8, ksize=3)     # フィルタサイズ＝3で出力数8\n",
    "                        self.linear1 = L.Linear(1352, 10)                       # 出力数10\n",
    "\n",
    "        def __call__(self, x, t=None, train=True):\n",
    "                # 畳み込みニューラルネットワークによる画像認識\n",
    "                h1 = self.conv1(x)                              # 畳み込み層\n",
    "                h2 = F.relu(h1)                                 # 活性化関数\n",
    "                h3 = F.max_pooling_2d(h2, 2)# プーリング層\n",
    "                h4 = self.linear1(h3)                   # 全結合層\n",
    "                # 損失か結果を返す\n",
    "                return F.softmax_cross_entropy(h4, t) if train else F.softmax(h4)"
   ]
  },
  {
   "cell_type": "code",
   "execution_count": 21,
   "metadata": {},
   "outputs": [],
   "source": [
    "# ニューラルネットワークを作成\n",
    "model = NMIST_Conv_NN()"
   ]
  },
  {
   "cell_type": "code",
   "execution_count": 22,
   "metadata": {},
   "outputs": [],
   "source": [
    "if uses_device >= 0:\n",
    "        # GPUを使う\n",
    "        chainer.cuda.get_device_from_id(0).use()\n",
    "        chainer.cuda.check_cuda_available()\n",
    "        # GPU用データ形式に変換\n",
    "        model.to_gpu()"
   ]
  },
  {
   "cell_type": "code",
   "execution_count": 23,
   "metadata": {},
   "outputs": [],
   "source": [
    "# MNISTデータセットを用意する\n",
    "train, test = chainer.datasets.get_mnist(ndim=3)"
   ]
  },
  {
   "cell_type": "code",
   "execution_count": 24,
   "metadata": {},
   "outputs": [],
   "source": [
    "# 繰り返し条件を作成する\n",
    "train_iter = iterators.SerialIterator(train, batch_size, shuffle=True)\n",
    "test_iter = iterators.SerialIterator(test, batch_size, repeat=False, shuffle=False)"
   ]
  },
  {
   "cell_type": "code",
   "execution_count": 25,
   "metadata": {},
   "outputs": [],
   "source": [
    "# 誤差逆伝播法アルゴリズムを選択する\n",
    "optimizer = optimizers.Adam()\n",
    "optimizer.setup(model)"
   ]
  },
  {
   "cell_type": "code",
   "execution_count": 26,
   "metadata": {},
   "outputs": [],
   "source": [
    "# デバイスを選択してTrainerを作成する\n",
    "updater = training.StandardUpdater(train_iter, optimizer, device=uses_device)\n",
    "trainer = training.Trainer(updater, (5, 'epoch'), out=\"result\")"
   ]
  },
  {
   "cell_type": "code",
   "execution_count": 27,
   "metadata": {},
   "outputs": [],
   "source": [
    "# テストをTrainerに設定する\n",
    "trainer.extend(extensions.Evaluator(test_iter, model, device=uses_device))"
   ]
  },
  {
   "cell_type": "code",
   "execution_count": 28,
   "metadata": {},
   "outputs": [],
   "source": [
    "# 学習の進展を表示するようにする\n",
    "trainer.extend(extensions.ProgressBar())"
   ]
  },
  {
   "cell_type": "code",
   "execution_count": 29,
   "metadata": {},
   "outputs": [
    {
     "name": "stdout",
     "output_type": "stream",
     "text": [
      "\u001b[J     total [###...............................................]  6.67%\n",
      "this epoch [################..................................] 33.33%\n",
      "       100 iter, 0 epoch / 5 epochs\n",
      "       inf iters/sec. Estimated time to finish: 0:00:00.\n",
      "\u001b[4A\u001b[J     total [######............................................] 13.33%\n",
      "this epoch [#################################.................] 66.67%\n",
      "       200 iter, 0 epoch / 5 epochs\n",
      "    23.366 iters/sec. Estimated time to finish: 0:00:55.636916.\n",
      "\u001b[4A\u001b[J     total [##########........................................] 20.00%\n",
      "this epoch [..................................................]  0.00%\n",
      "       300 iter, 1 epoch / 5 epochs\n",
      "    20.046 iters/sec. Estimated time to finish: 0:00:59.862096.\n",
      "\u001b[4A\u001b[J     total [#############.....................................] 26.67%\n",
      "this epoch [################..................................] 33.33%\n",
      "       400 iter, 1 epoch / 5 epochs\n",
      "     21.05 iters/sec. Estimated time to finish: 0:00:52.255977.\n",
      "\u001b[4A\u001b[J     total [################..................................] 33.33%\n",
      "this epoch [#################################.................] 66.67%\n",
      "       500 iter, 1 epoch / 5 epochs\n",
      "    21.098 iters/sec. Estimated time to finish: 0:00:47.397007.\n",
      "\u001b[4A\u001b[J     total [####################..............................] 40.00%\n",
      "this epoch [..................................................]  0.00%\n",
      "       600 iter, 2 epoch / 5 epochs\n",
      "     20.48 iters/sec. Estimated time to finish: 0:00:43.945038.\n",
      "\u001b[4A\u001b[J     total [#######################...........................] 46.67%\n",
      "this epoch [################..................................] 33.33%\n",
      "       700 iter, 2 epoch / 5 epochs\n",
      "    20.964 iters/sec. Estimated time to finish: 0:00:38.160373.\n",
      "\u001b[4A\u001b[J     total [##########################........................] 53.33%\n",
      "this epoch [#################################.................] 66.67%\n",
      "       800 iter, 2 epoch / 5 epochs\n",
      "    21.177 iters/sec. Estimated time to finish: 0:00:33.054761.\n",
      "\u001b[4A\u001b[J     total [##############################....................] 60.00%\n",
      "this epoch [..................................................]  0.00%\n",
      "       900 iter, 3 epoch / 5 epochs\n",
      "    20.612 iters/sec. Estimated time to finish: 0:00:29.109283.\n",
      "\u001b[4A\u001b[J     total [#################################.................] 66.67%\n",
      "this epoch [################..................................] 33.33%\n",
      "      1000 iter, 3 epoch / 5 epochs\n",
      "    20.883 iters/sec. Estimated time to finish: 0:00:23.943013.\n",
      "\u001b[4A\u001b[J     total [####################################..............] 73.33%\n",
      "this epoch [#################################.................] 66.67%\n",
      "      1100 iter, 3 epoch / 5 epochs\n",
      "    21.024 iters/sec. Estimated time to finish: 0:00:19.025758.\n",
      "\u001b[4A\u001b[J     total [########################################..........] 80.00%\n",
      "this epoch [..................................................]  0.00%\n",
      "      1200 iter, 4 epoch / 5 epochs\n",
      "    20.467 iters/sec. Estimated time to finish: 0:00:14.657842.\n",
      "\u001b[4A\u001b[J     total [###########################################.......] 86.67%\n",
      "this epoch [################..................................] 33.33%\n",
      "      1300 iter, 4 epoch / 5 epochs\n",
      "    20.676 iters/sec. Estimated time to finish: 0:00:09.672907.\n",
      "\u001b[4A\u001b[J     total [##############################################....] 93.33%\n",
      "this epoch [#################################.................] 66.67%\n",
      "      1400 iter, 4 epoch / 5 epochs\n",
      "     20.83 iters/sec. Estimated time to finish: 0:00:04.800703.\n",
      "\u001b[4A\u001b[J     total [##################################################] 100.00%\n",
      "this epoch [..................................................]  0.00%\n",
      "      1500 iter, 5 epoch / 5 epochs\n",
      "    20.648 iters/sec. Estimated time to finish: 0:00:00.\n",
      "\u001b[4A\u001b[J"
     ]
    }
   ],
   "source": [
    "# 機械学習を実行する\n",
    "trainer.run()"
   ]
  },
  {
   "cell_type": "code",
   "execution_count": 21,
   "metadata": {
    "scrolled": true
   },
   "outputs": [
    {
     "ename": "RuntimeError",
     "evalue": "h5py is not installed on your environment.\nPlease install h5py to activate hdf5 serializers.\n\n  $ pip install h5py",
     "output_type": "error",
     "traceback": [
      "\u001b[0;31m---------------------------------------------------------------------------\u001b[0m",
      "\u001b[0;31mRuntimeError\u001b[0m                              Traceback (most recent call last)",
      "\u001b[0;32m<ipython-input-21-06e859ead3ca>\u001b[0m in \u001b[0;36m<module>\u001b[0;34m()\u001b[0m\n\u001b[1;32m      1\u001b[0m \u001b[0;31m# 学習結果を保存する\u001b[0m\u001b[0;34m\u001b[0m\u001b[0;34m\u001b[0m\u001b[0m\n\u001b[0;32m----> 2\u001b[0;31m \u001b[0mchainer\u001b[0m\u001b[0;34m.\u001b[0m\u001b[0mserializers\u001b[0m\u001b[0;34m.\u001b[0m\u001b[0msave_hdf5\u001b[0m\u001b[0;34m(\u001b[0m \u001b[0;34m'chapt02local.hdf5'\u001b[0m\u001b[0;34m,\u001b[0m \u001b[0mmodel\u001b[0m \u001b[0;34m)\u001b[0m\u001b[0;34m\u001b[0m\u001b[0m\n\u001b[0m",
      "\u001b[0;32m/usr/local/Cellar/python3/3.6.4/Frameworks/Python.framework/Versions/3.6/lib/python3.6/site-packages/chainer/serializers/hdf5.py\u001b[0m in \u001b[0;36msave_hdf5\u001b[0;34m(filename, obj, compression)\u001b[0m\n\u001b[1;32m     85\u001b[0m \u001b[0;34m\u001b[0m\u001b[0m\n\u001b[1;32m     86\u001b[0m     \"\"\"\n\u001b[0;32m---> 87\u001b[0;31m     \u001b[0m_check_available\u001b[0m\u001b[0;34m(\u001b[0m\u001b[0;34m)\u001b[0m\u001b[0;34m\u001b[0m\u001b[0m\n\u001b[0m\u001b[1;32m     88\u001b[0m     \u001b[0;32mwith\u001b[0m \u001b[0mh5py\u001b[0m\u001b[0;34m.\u001b[0m\u001b[0mFile\u001b[0m\u001b[0;34m(\u001b[0m\u001b[0mfilename\u001b[0m\u001b[0;34m,\u001b[0m \u001b[0;34m'w'\u001b[0m\u001b[0;34m)\u001b[0m \u001b[0;32mas\u001b[0m \u001b[0mf\u001b[0m\u001b[0;34m:\u001b[0m\u001b[0;34m\u001b[0m\u001b[0m\n\u001b[1;32m     89\u001b[0m         \u001b[0ms\u001b[0m \u001b[0;34m=\u001b[0m \u001b[0mHDF5Serializer\u001b[0m\u001b[0;34m(\u001b[0m\u001b[0mf\u001b[0m\u001b[0;34m,\u001b[0m \u001b[0mcompression\u001b[0m\u001b[0;34m=\u001b[0m\u001b[0mcompression\u001b[0m\u001b[0;34m)\u001b[0m\u001b[0;34m\u001b[0m\u001b[0m\n",
      "\u001b[0;32m/usr/local/Cellar/python3/3.6.4/Frameworks/Python.framework/Versions/3.6/lib/python3.6/site-packages/chainer/serializers/hdf5.py\u001b[0m in \u001b[0;36m_check_available\u001b[0;34m()\u001b[0m\n\u001b[1;32m     18\u001b[0m \u001b[0;34m\u001b[0m\u001b[0m\n\u001b[1;32m     19\u001b[0m   $ pip install h5py'''\n\u001b[0;32m---> 20\u001b[0;31m         \u001b[0;32mraise\u001b[0m \u001b[0mRuntimeError\u001b[0m\u001b[0;34m(\u001b[0m\u001b[0mmsg\u001b[0m\u001b[0;34m)\u001b[0m\u001b[0;34m\u001b[0m\u001b[0m\n\u001b[0m\u001b[1;32m     21\u001b[0m \u001b[0;34m\u001b[0m\u001b[0m\n\u001b[1;32m     22\u001b[0m \u001b[0;34m\u001b[0m\u001b[0m\n",
      "\u001b[0;31mRuntimeError\u001b[0m: h5py is not installed on your environment.\nPlease install h5py to activate hdf5 serializers.\n\n  $ pip install h5py"
     ]
    }
   ],
   "source": [
    "# 学習結果を保存する\n",
    "chainer.serializers.save_hdf5( 'chapt02local.hdf5', model )"
   ]
  },
  {
   "cell_type": "markdown",
   "metadata": {},
   "source": [
    "# 結果を見る"
   ]
  },
  {
   "cell_type": "code",
   "execution_count": 12,
   "metadata": {},
   "outputs": [],
   "source": [
    "if uses_device >= 0:\n",
    "    import cupy as cp\n",
    "else:\n",
    "    cp = np"
   ]
  },
  {
   "cell_type": "code",
   "execution_count": 13,
   "metadata": {
    "scrolled": true
   },
   "outputs": [],
   "source": [
    "from PIL import Image"
   ]
  },
  {
   "cell_type": "code",
   "execution_count": 14,
   "metadata": {},
   "outputs": [],
   "source": [
    "# 学習結果を読み込む\n",
    "chainer.serializers.load_hdf5( 'mnist1.hdf5', model )"
   ]
  },
  {
   "cell_type": "code",
   "execution_count": 15,
   "metadata": {},
   "outputs": [],
   "source": [
    "# 画像を読み込む\n",
    "image = Image.open('test/mnist-0.png').convert('L')"
   ]
  },
  {
   "cell_type": "code",
   "execution_count": 16,
   "metadata": {},
   "outputs": [],
   "source": [
    "# ニューラルネットワークの入力に合わせて成形する\n",
    "pixels = cp.asarray(image).astype(cp.float32).reshape(1,1,28,28)\n",
    "pixels = pixels / 255"
   ]
  },
  {
   "cell_type": "code",
   "execution_count": 17,
   "metadata": {},
   "outputs": [],
   "source": [
    "# ニューラルネットワークを実行する\n",
    "result = model(pixels, train=False)"
   ]
  },
  {
   "cell_type": "code",
   "execution_count": 18,
   "metadata": {},
   "outputs": [
    {
     "name": "stdout",
     "output_type": "stream",
     "text": [
      "0\t0.99998474\n",
      "1\t2.1946712e-14\n",
      "2\t1.530782e-05\n",
      "3\t6.5191255e-12\n",
      "4\t1.5229287e-15\n",
      "5\t5.7731657e-13\n",
      "6\t1.3733917e-08\n",
      "7\t3.741634e-12\n",
      "8\t8.273766e-09\n",
      "9\t4.029267e-09\n"
     ]
    }
   ],
   "source": [
    "# 実行結果を表示する\n",
    "for i in range(len(result.data[0])):\n",
    "    print( str(i) + '\\t' + str(result.data[0][i]) )"
   ]
  },
  {
   "cell_type": "code",
   "execution_count": null,
   "metadata": {},
   "outputs": [],
   "source": []
  }
 ],
 "metadata": {
  "kernelspec": {
   "display_name": "chainer2",
   "language": "python",
   "name": "chainer2"
  },
  "language_info": {
   "codemirror_mode": {
    "name": "ipython",
    "version": 3
   },
   "file_extension": ".py",
   "mimetype": "text/x-python",
   "name": "python",
   "nbconvert_exporter": "python",
   "pygments_lexer": "ipython3",
   "version": "3.6.4"
  },
  "toc": {
   "nav_menu": {},
   "number_sections": true,
   "sideBar": true,
   "skip_h1_title": false,
   "toc_cell": false,
   "toc_position": {},
   "toc_section_display": "block",
   "toc_window_display": false
  }
 },
 "nbformat": 4,
 "nbformat_minor": 2
}
